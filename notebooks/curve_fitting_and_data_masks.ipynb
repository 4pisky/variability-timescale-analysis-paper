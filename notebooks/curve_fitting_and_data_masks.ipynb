{
 "cells": [
  {
   "cell_type": "markdown",
   "metadata": {},
   "source": [
    "# Curve fitting with masked data\n",
    "A quick demo of `scipy.optimize.curve_fit` to verify if it handles masked data (or not).\n",
    "\n",
    "**Result: Manual trimming of data must be applied before passing to scipy fitting routines.**"
   ]
  },
  {
   "cell_type": "code",
   "execution_count": null,
   "metadata": {},
   "outputs": [],
   "source": [
    "%matplotlib inline\n",
    "from __future__ import print_function\n",
    "from scipy.optimize import curve_fit\n",
    "import numpy as np\n",
    "import matplotlib.pyplot as plt\n",
    "import matplotlib"
   ]
  },
  {
   "cell_type": "code",
   "execution_count": null,
   "metadata": {},
   "outputs": [],
   "source": [
    "plt.rcParams['figure.figsize'] = 10, 8"
   ]
  },
  {
   "cell_type": "code",
   "execution_count": null,
   "metadata": {},
   "outputs": [],
   "source": [
    "np.random.seed(123)"
   ]
  },
  {
   "cell_type": "code",
   "execution_count": null,
   "metadata": {},
   "outputs": [],
   "source": [
    "m0 = 3.\n",
    "c0 = 5.\n",
    "sigma= 4.\n",
    "\n",
    "x = np.arange(5,15)\n",
    "y = m0*x +c0 + np.random.normal(scale=sigma,size=len(x))\n"
   ]
  },
  {
   "cell_type": "code",
   "execution_count": null,
   "metadata": {},
   "outputs": [],
   "source": [
    "# Add an outlier:\n",
    "y[-1] = y[-1]+10"
   ]
  },
  {
   "cell_type": "code",
   "execution_count": null,
   "metadata": {},
   "outputs": [],
   "source": [
    "y_masked = np.ma.MaskedArray(data=y, mask=np.zeros_like(y))\n",
    "y_masked.mask[-1] = True\n",
    "y_masked"
   ]
  },
  {
   "cell_type": "code",
   "execution_count": null,
   "metadata": {},
   "outputs": [],
   "source": [
    "outliers = np.ma.masked_array(y, np.logical_not(y_masked.mask))\n",
    "outliers"
   ]
  },
  {
   "cell_type": "code",
   "execution_count": null,
   "metadata": {},
   "outputs": [],
   "source": [
    "def straight_line(x, slope, intercept):\n",
    "    return slope * x + intercept"
   ]
  },
  {
   "cell_type": "markdown",
   "metadata": {},
   "source": [
    "Run a fit including the outliers:"
   ]
  },
  {
   "cell_type": "code",
   "execution_count": null,
   "metadata": {},
   "outputs": [],
   "source": [
    "fit_params, fit_cov =  curve_fit(straight_line, x, y)\n",
    "m1, c1 = fit_params\n",
    "y1 = c1 + m1*x\n",
    "m1, c1"
   ]
  },
  {
   "cell_type": "markdown",
   "metadata": {},
   "source": [
    "Unfortunately scipy.optimize.curve_fit does not make use of array masks, so we get the same result:"
   ]
  },
  {
   "cell_type": "code",
   "execution_count": null,
   "metadata": {},
   "outputs": [],
   "source": [
    "misleading_params, _= curve_fit(straight_line, x, y_masked)\n",
    "misleading_params"
   ]
  },
  {
   "cell_type": "markdown",
   "metadata": {},
   "source": [
    "We need to manually trim the data first:"
   ]
  },
  {
   "cell_type": "code",
   "execution_count": null,
   "metadata": {},
   "outputs": [],
   "source": [
    "y_trimmed = y[~y_masked.mask]\n",
    "x_trimmed = x[~y_masked.mask]\n",
    "\n",
    "trimmed_fit, _ =  curve_fit(straight_line, x_trimmed, y_trimmed)\n",
    "m2, c2 = trimmed_fit\n",
    "m2, c2"
   ]
  },
  {
   "cell_type": "code",
   "execution_count": null,
   "metadata": {},
   "outputs": [],
   "source": [
    "plt\n",
    "ax = plt.gca()\n",
    "ax.scatter(x,y_masked, label='Data')\n",
    "ax.scatter(x,outliers, label='Outliers')\n",
    "ax.plot(x,m0*x+c0, ls='--', label='True line')\n",
    "ax.plot(x,m1*x + c1, ls='--', label='Fitted with outlier')\n",
    "ax.plot(x,m2*x + c2, ls='--', label='Fitted to trimmed data')\n",
    "\n",
    "ax.legend(loc='best')"
   ]
  },
  {
   "cell_type": "code",
   "execution_count": null,
   "metadata": {},
   "outputs": [],
   "source": []
  }
 ],
 "metadata": {
  "language_info": {
   "name": "python",
   "pygments_lexer": "ipython3"
  }
 },
 "nbformat": 4,
 "nbformat_minor": 1
}
